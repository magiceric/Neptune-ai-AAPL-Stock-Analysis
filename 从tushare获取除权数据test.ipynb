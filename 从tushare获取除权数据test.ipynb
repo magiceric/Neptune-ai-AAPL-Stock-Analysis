{
 "cells": [
  {
   "cell_type": "code",
   "execution_count": 4,
   "metadata": {},
   "outputs": [],
   "source": [
    "from config import tushare_api_key\n",
    "import pandas as pd\n",
    "import tushare as ts\n",
    "ts.set_token(tushare_api_key)\n",
    "pro = ts.pro_api()"
   ]
  },
  {
   "cell_type": "code",
   "execution_count": 12,
   "metadata": {},
   "outputs": [
    {
     "name": "stdout",
     "output_type": "stream",
     "text": [
      "     trade_date         vol   open   high    low  close\n",
      "0      19910404        3.00  48.76  48.76  48.76  48.76\n",
      "1      19910405        2.00  48.52  48.52  48.52  48.52\n",
      "2      19910408        2.00  48.04  48.04  48.04  48.04\n",
      "3      19910409        4.00  47.80  47.80  47.80  47.80\n",
      "4      19910410       15.00  47.56  47.56  47.56  47.56\n",
      "...         ...         ...    ...    ...    ...    ...\n",
      "7834   20240326  1740021.46  10.45  10.66  10.42  10.60\n",
      "7835   20240327  1274135.99  10.56  10.63  10.51  10.53\n",
      "7836   20240328  1302188.92  10.51  10.57  10.38  10.49\n",
      "7837   20240329   872758.98  10.45  10.57  10.43  10.52\n",
      "7838   20240401  1191087.96  10.52  10.65  10.51  10.64\n",
      "\n",
      "[7839 rows x 6 columns]"
     ]
    }
   ],
   "source": [
    "# Fetching adjusted ('除权') historical data for 000001.SZ since its IPO by year\n",
    "# Define the stock code\n",
    "stock_code = '000001.SZ'\n",
    "\n",
    "# Initialize an empty DataFrame to hold the concatenated results\n",
    "df_full = pd.DataFrame()\n",
    "\n",
    "# Define the start date for fetching data\n",
    "start_date = '19910101'\n",
    "\n",
    "# Define the end date as today\n",
    "end_date = pd.Timestamp.today().strftime('%Y%m%d')\n",
    "\n",
    "# Convert start_date and end_date to datetime objects\n",
    "start_date_dt = pd.to_datetime(start_date)\n",
    "end_date_dt = pd.to_datetime(end_date)\n",
    "\n",
    "# Calculate the number of years between start and end date\n",
    "years = end_date_dt.year - start_date_dt.year + 1\n",
    "\n",
    "# Fetch the adjusted historical data in yearly batches\n",
    "for year in range(start_date_dt.year, start_date_dt.year + years):\n",
    "    # Define yearly start and end dates\n",
    "    yearly_start_date = f\"{year}0101\"\n",
    "    yearly_end_date = f\"{year}1231\"\n",
    "    # Ensure the end date does not exceed the current date\n",
    "    if pd.to_datetime(yearly_end_date) > end_date_dt:\n",
    "        yearly_end_date = end_date\n",
    "\n",
    "    df_batch = pro.daily(ts_code=stock_code, adj='hfq', start_date=yearly_start_date, end_date=yearly_end_date)\n",
    "    # Adjust the order of the fetched data before concatenation\n",
    "    df_batch = df_batch.sort_values(by='trade_date', ascending=True)\n",
    "    df_full = pd.concat([df_full, df_batch], ignore_index=True)\n",
    "\n",
    "# Selecting required columns: 'trade_date', 'vol', 'open', 'high', 'low', 'close'\n",
    "df_selected = df_full[['trade_date', 'vol', 'open', 'high', 'low', 'close']]\n",
    "\n",
    "# Display the first few rows of the dataframe\n",
    "print(df_selected, end='')\n"
   ]
  }
 ],
 "metadata": {
  "kernelspec": {
   "display_name": ".venv",
   "language": "python",
   "name": "python3"
  },
  "language_info": {
   "codemirror_mode": {
    "name": "ipython",
    "version": 3
   },
   "file_extension": ".py",
   "mimetype": "text/x-python",
   "name": "python",
   "nbconvert_exporter": "python",
   "pygments_lexer": "ipython3",
   "version": "3.12.2"
  }
 },
 "nbformat": 4,
 "nbformat_minor": 2
}

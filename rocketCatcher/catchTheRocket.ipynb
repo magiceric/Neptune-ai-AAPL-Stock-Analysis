{
 "cells": [
  {
   "cell_type": "code",
   "execution_count": null,
   "metadata": {},
   "outputs": [],
   "source": [
    "import akshare as ak\n",
    "from rocketCatchingTools import RocketCatchingTools\n",
    "\n",
    "# 获取A股市场所有股票代码\n",
    "stock_list = ak.stock_zh_a_spot_em()\n",
    "# 筛选出以\"0\"和\"6\"开头的股票代码，排除以\"688\"和\"689\"开头的\n",
    "filtered_stocks = stock_list[(stock_list['代码'].str.startswith('0') | stock_list['代码'].str.startswith('6')) & \n",
    "                             ~stock_list['代码'].str.startswith('688') & \n",
    "                             ~stock_list['代码'].str.startswith('689')]\n",
    "\n",
    "# 设定标的日期和回溯周期\n",
    "reference_date = '2024-05-17'\n",
    "lookback_period = 5\n",
    "\n",
    "# 循环判断每个股票是否符合选股标准\n",
    "results = {}\n",
    "for code in filtered_stocks['代码']:\n",
    "    rc_tool = RocketCatchingTools(stock_code=code)\n",
    "    meets_criteria = rc_tool.is_stock_meeting_selection_criteria(reference_date, lookback_period)\n",
    "    results[code] = meets_criteria\n",
    "\n",
    "# 输出结果\n",
    "for stock_code, is_meeting_criteria in results.items():\n",
    "    print(f\"Stock Code: {stock_code}, Meets Criteria: {is_meeting_criteria}\")\n"
   ]
  }
 ],
 "metadata": {
  "kernelspec": {
   "display_name": ".conda",
   "language": "python",
   "name": "python3"
  },
  "language_info": {
   "codemirror_mode": {
    "name": "ipython",
    "version": 3
   },
   "file_extension": ".py",
   "mimetype": "text/x-python",
   "name": "python",
   "nbconvert_exporter": "python",
   "pygments_lexer": "ipython3",
   "version": "3.11.9"
  }
 },
 "nbformat": 4,
 "nbformat_minor": 2
}
